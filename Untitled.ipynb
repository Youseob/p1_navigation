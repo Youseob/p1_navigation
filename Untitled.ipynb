{
 "cells": [
  {
   "cell_type": "code",
   "execution_count": 1,
   "metadata": {},
   "outputs": [],
   "source": [
    "from agent import DQNAgent    "
   ]
  },
  {
   "cell_type": "code",
   "execution_count": 2,
   "metadata": {},
   "outputs": [],
   "source": [
    "## main ##\n",
    "from unityagents import UnityEnvironment\n",
    "import numpy as np  "
   ]
  },
  {
   "cell_type": "code",
   "execution_count": 3,
   "metadata": {},
   "outputs": [
    {
     "name": "stderr",
     "output_type": "stream",
     "text": [
      "INFO:unityagents:\n",
      "'Academy' started successfully!\n",
      "Unity Academy name: Academy\n",
      "        Number of Brains: 1\n",
      "        Number of External Brains : 1\n",
      "        Lesson number : 0\n",
      "        Reset Parameters :\n",
      "\t\t\n",
      "Unity brain name: BananaBrain\n",
      "        Number of Visual Observations (per agent): 0\n",
      "        Vector Observation space type: continuous\n",
      "        Vector Observation space size (per agent): 37\n",
      "        Number of stacked Vector Observation: 1\n",
      "        Vector Action space type: discrete\n",
      "        Vector Action space size (per agent): 4\n",
      "        Vector Action descriptions: , , , \n"
     ]
    }
   ],
   "source": [
    "env = UnityEnvironment(file_name=\"Banana_Linux/Banana.x86_64\")"
   ]
  },
  {
   "cell_type": "code",
   "execution_count": 4,
   "metadata": {},
   "outputs": [
    {
     "name": "stdout",
     "output_type": "stream",
     "text": [
      "Number of agents: 1\n",
      "Number of actions: 4\n",
      "States have length: 37\n",
      "<class 'numpy.ndarray'>\n"
     ]
    }
   ],
   "source": [
    "brain_name = env.brain_names[0]\n",
    "brain = env.brains[brain_name]\n",
    "env_info = env.reset(train_mode=False)[brain_name]\n",
    "\n",
    "# number of agents in the environment\n",
    "print('Number of agents:', len(env_info.agents))\n",
    "\n",
    "# number of actions\n",
    "action_size = brain.vector_action_space_size\n",
    "print('Number of actions:', action_size)\n",
    "\n",
    "# examine the state space \n",
    "state = env_info.vector_observations[0]\n",
    "#print('States look like:', state)\n",
    "state_size = len(state)\n",
    "print('States have length:', state_size)\n",
    "print(type(state))"
   ]
  },
  {
   "cell_type": "code",
   "execution_count": 5,
   "metadata": {},
   "outputs": [
    {
     "name": "stdout",
     "output_type": "stream",
     "text": [
      "Epoch : 100\tMean Score: 2.45\tScore: 4.0\n",
      "Epoch : 200\tMean Score: 4.71\tScore: 13.0\n",
      "Epoch : 300\tMean Score: 7.43\tScore: 18.0\n",
      "Epoch : 400\tMean Score: 9.23\tScore: 19.0\n",
      "Epoch : 500\tMean Score: 10.60\tScore: 19.0\n",
      "Epoch : 600\tMean Score: 11.42\tScore: 15.0\n",
      "Epoch : 700\tMean Score: 11.99\tScore: 13.0\n",
      "Epoch : 800\tMean Score: 12.38\tScore: 24.0\n",
      "Epoch : 900\tMean Score: 12.70\tScore: 17.0\n",
      "Epoch : 1000\tMean Score: 12.97\tScore: 19.0\n",
      "Epoch : 1100\tMean Score: 13.28\tScore: 18.0\n",
      "Epoch : 1200\tMean Score: 13.47\tScore: 20.0\n",
      "Epoch : 1300\tMean Score: 13.67\tScore: 17.0\n",
      "Epoch : 1400\tMean Score: 13.82\tScore: 21.0\n",
      "Epoch : 1500\tMean Score: 13.98\tScore: 19.0\n",
      "Epoch : 1600\tMean Score: 14.11\tScore: 17.0\n",
      "Epoch : 1700\tMean Score: 14.20\tScore: 17.0\n",
      "Epoch : 1800\tMean Score: 14.31\tScore: 19.0\n",
      "Epoch : 1900\tMean Score: 14.36\tScore: 18.0\n",
      "Epoch : 2000\tMean Score: 14.45\tScore: 16.0\n"
     ]
    }
   ],
   "source": [
    "TOTAL_EPOCHES = int(2*1e3)\n",
    "\n",
    "agent = DQNAgent(int(3*state_size), action_size, True, True)\n",
    "\n",
    "scores = []\n",
    "#steps = []\n",
    "from collections import deque \n",
    "\n",
    "import random\n",
    "eps = 1\n",
    "descend_eps = 0.995\n",
    "end_eps = 0.01\n",
    "\n",
    "state_dq = deque(maxlen=3)\n",
    "\n",
    "for i in range(1,TOTAL_EPOCHES+1):\n",
    "    \n",
    "    env_info = env.reset(train_mode=True)[brain_name] # reset the environment\n",
    "    state = env_info.vector_observations[0]\n",
    "    state_dq.append(state)\n",
    "    score = 0\n",
    "    #time_step = 0\n",
    "    \n",
    "    for _ in range(2):\n",
    "        env_info = env.step(1)[brain_name]        # send the action to the environment\n",
    "        state = env_info.vector_observations[0]\n",
    "        state_dq.append(state)\n",
    "        reward = env_info.rewards[0]\n",
    "        score += reward\n",
    "    \n",
    "    state_stack = np.hstack(state_dq)\n",
    "    done = False\n",
    "    while not done:\n",
    "        \n",
    "        action = agent.get_action(state_stack, eps)\n",
    "        \n",
    "        env_info = env.step(action)[brain_name]        # send the action to the environment\n",
    "        \n",
    "        next_state = env_info.vector_observations[0]   # get the next state\n",
    "        state_dq.append(next_state)\n",
    "        next_state_stack = np.hstack(state_dq)\n",
    "        \n",
    "        reward = env_info.rewards[0]                   # get the reward\n",
    "        done = env_info.local_done[0]\n",
    "        \n",
    "        \n",
    "        eps = min(end_eps, descend_eps* eps)\n",
    "        agent.append_sample(state_stack, action, reward, next_state_stack, done)\n",
    "    \n",
    "        state_stack = next_state_stack  \n",
    "        score += reward\n",
    "        #time_step += 1                           # roll over the state to next time step\n",
    "            \n",
    "    #agent.soft_target_model_update()\n",
    "    scores.append(score)\n",
    "    #steps.append(time_step)\n",
    "    print(\"\\rEpoch : {}\\tMean Score: {:.2f}\\tScore: {}\".format(i, np.mean(scores), score), end=\"\")\n",
    "    if i%100 == 0:\n",
    "        print(\"\\rEpoch : {}\\tMean Score: {:.2f}\\tScore: {}\".format(i, np.mean(scores), score))\n",
    "    \n",
    "    if score >= 200.0:\n",
    "        print()\n",
    "        torch.save(agent.qnetwork_local.state_dict(), 'checkpoint.pth')\n",
    "        break\n",
    "\n",
    "env.close()\n"
   ]
  },
  {
   "cell_type": "code",
   "execution_count": 6,
   "metadata": {},
   "outputs": [
    {
     "data": {
      "image/png": "[encoded data removed]",
      "text/plain": [
       "<Figure size 432x288 with 1 Axes>"
      ]
     },
     "metadata": {
      "needs_background": "light"
     },
     "output_type": "display_data"
    }
   ],
   "source": [
    "import matplotlib.pyplot as plt\n",
    "%matplotlib inline\n",
    "fig = plt.figure()\n",
    "ax = fig.add_subplot(111)\n",
    "plt.plot(np.arange(len(scores)), scores)\n",
    "plt.ylabel('Score')\n",
    "plt.xlabel('Episode #')\n",
    "plt.show()"
   ]
  },
  {
   "cell_type": "code",
   "execution_count": null,
   "metadata": {},
   "outputs": [],
   "source": []
  }
 ],
 "metadata": {
  "kernelspec": {
   "display_name": "drlnd",
   "language": "python",
   "name": "drland"
  },
  "language_info": {
   "codemirror_mode": {
    "name": "ipython",
    "version": 3
   },
   "file_extension": ".py",
   "mimetype": "text/x-python",
   "name": "python",
   "nbconvert_exporter": "python",
   "pygments_lexer": "ipython3",
   "version": "3.6.6"
  }
 },
 "nbformat": 4,
 "nbformat_minor": 2
}
